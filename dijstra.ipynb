{
 "cells": [
  {
   "cell_type": "markdown",
   "id": "3f8fc421-0042-4c85-8ff2-b04b64300e3a",
   "metadata": {},
   "source": [
    "Finding Shortest Path Algorithm\n",
    "========="
   ]
  },
  {
   "cell_type": "markdown",
   "id": "6b55cd43-bc2f-4f7c-856f-a504c957264d",
   "metadata": {},
   "source": [
    "## 1. Reparing initial input"
   ]
  },
  {
   "cell_type": "markdown",
   "id": "d3ee4665-a93a-477e-bb12-170efbd4bf8d",
   "metadata": {},
   "source": [
    "Get input vector of graph. A library with each element according vector and its length."
   ]
  },
  {
   "cell_type": "code",
   "execution_count": 1,
   "id": "db2187a0-43ba-47b4-abdd-c53ce40b1241",
   "metadata": {},
   "outputs": [],
   "source": [
    "vectors = {'BA':1,'AC':2,'CB':2,'BD':3,\n",
    "          'DC':1,'CE':1,'DE':1,'DF':2,\n",
    "          'EF':2}"
   ]
  },
  {
   "cell_type": "markdown",
   "id": "16a98095-f1b0-434f-949c-e5adba28479a",
   "metadata": {},
   "source": [
    "Creating $\\phi$-matrix for every vectors"
   ]
  },
  {
   "cell_type": "code",
   "execution_count": 2,
   "id": "d0c8ea4b-5db9-4e44-b3c7-5cfcf6f60102",
   "metadata": {},
   "outputs": [
    {
     "name": "stdout",
     "output_type": "stream",
     "text": [
      "['E', 'B', 'A', 'F', 'D', 'C']\n"
     ]
    }
   ],
   "source": [
    "list_vec = list(vectors.keys())\n",
    "# print(list_vec)\n",
    "weights = [vectors[i] for i in list_vec]\n",
    "# print(weights)\n",
    "\n",
    "def FindPoints(list_vec):\n",
    "    points = []\n",
    "    tem_point = [points.extend(list(vector)) for vector in list_vec]\n",
    "    points = list(set(points))\n",
    "    #print(points)\n",
    "    return points\n",
    "\n",
    "points = FindPoints(list_vec)\n",
    "print(points)"
   ]
  },
  {
   "cell_type": "code",
   "execution_count": 3,
   "id": "c42725d5-6229-48fb-a4e0-5312116fab09",
   "metadata": {},
   "outputs": [
    {
     "name": "stdout",
     "output_type": "stream",
     "text": [
      "[array([[0, 0, 1, 0, 0, 0],\n",
      "       [0, 1, 0, 0, 0, 0]]), array([[0, 0, 0, 0, 0, 1],\n",
      "       [0, 0, 1, 0, 0, 0]]), array([[0, 1, 0, 0, 0, 0],\n",
      "       [0, 0, 0, 0, 0, 1]]), array([[0, 0, 0, 0, 1, 0],\n",
      "       [0, 1, 0, 0, 0, 0]]), array([[0, 0, 0, 0, 0, 1],\n",
      "       [0, 0, 0, 0, 1, 0]]), array([[1, 0, 0, 0, 0, 0],\n",
      "       [0, 0, 0, 0, 0, 1]]), array([[1, 0, 0, 0, 0, 0],\n",
      "       [0, 0, 0, 0, 1, 0]]), array([[0, 0, 0, 1, 0, 0],\n",
      "       [0, 0, 0, 0, 1, 0]]), array([[0, 0, 0, 1, 0, 0],\n",
      "       [1, 0, 0, 0, 0, 0]])]\n"
     ]
    }
   ],
   "source": [
    "import numpy as np\n",
    "\n",
    "def Cre_Matrix(vectors, points):\n",
    "    matrixes = []\n",
    "    for vector in vectors:\n",
    "        pos_row = [0]*len(points)\n",
    "        neg_row = [0]*len(points)\n",
    "\n",
    "        pos_index = points.index(vector[1])\n",
    "        neg_index = points.index(vector[0])\n",
    "\n",
    "        pos_row[pos_index] += 1\n",
    "        neg_row[neg_index] += 1\n",
    "\n",
    "        matrixes.append(np.array([pos_row,neg_row]))\n",
    "    return matrixes\n",
    "\n",
    "matrixes = Cre_Matrix(list_vec, points)\n",
    "print(matrixes)\n",
    "        "
   ]
  },
  {
   "cell_type": "markdown",
   "id": "2021984b-0375-43d8-b59e-54a5b1f664f7",
   "metadata": {},
   "source": [
    "## 2. Solve the shortest path"
   ]
  },
  {
   "cell_type": "markdown",
   "id": "50d334c7-2605-4f0b-b43f-60ef092848fa",
   "metadata": {},
   "source": [
    "Using the [Solve Inequaltion](https://github.com/Truongphi20/inequaltion) to solve the problem. The conditions for establishing the system of inequalities are used as follows:"
   ]
  },
  {
   "cell_type": "markdown",
   "id": "f96197ec-0933-45ce-8a22-5b4fee7eb81f",
   "metadata": {},
   "source": [
    "- Matrixes coefficient equal to 0 or 1\n",
    "- Total path length is minima\n",
    "- Sum of fixed coefficient equal to number of points minus 1\n",
    "- Coefficients must match the final $\\phi$-matrix"
   ]
  },
  {
   "cell_type": "code",
   "execution_count": 4,
   "id": "150e9363-67bf-47c4-9cf7-4a62869db964",
   "metadata": {},
   "outputs": [
    {
     "name": "stdout",
     "output_type": "stream",
     "text": [
      "(['a', 'b', 'c', 'd', 'e', 'f', 'g', 'h', 'i', 'M'], [[1, 1, 1, 0, 0, 0, 1, 0, 1, 8], [0, 1, 1, 1, 0, 0, 1, 0, 1, 10]])\n"
     ]
    }
   ],
   "source": [
    "import sinequal as si\n",
    "\n",
    "biens = ['a','b','c','d','e','f','g','h','i','M']\n",
    "cuctri = [0,0,0,0,0,0,0,0,0,0]\n",
    "\n",
    "he_bpt = ['a>=0','b>=0','c>=0','d>=0','e>=0','f>=0','g>=0','h>=0','i>=0',\n",
    "         'a<=1','b<=1','c<=1','d<=1','e<=1','f<=1','g<=1','h<=1','i<=1', #coefficient equal 0 or 1\n",
    "         '1*a+2*b+2*c+3*d+1*e+1*f+1*g+2*h+2*i-M==0', #total path length is minima\n",
    "         'a+b+c+d+e+f+g+h+i==5', #Sum equal point number minus 1\n",
    "          'a<=1','c<=1','b+e<=1','d<=1','f+g<=1','h+i<=1', #line 1 of matrix\n",
    "          'b<=1','a+d<=1','c+f<=1','e+g+h<=1','i<=1', #line 2 of matrix\n",
    "         ]\n",
    "\n",
    "items_lay = si.Solve_Inequal(biens, cuctri, he_bpt)\n",
    "print(items_lay)"
   ]
  },
  {
   "cell_type": "markdown",
   "id": "dd352fea-5ba2-4a04-b3ba-410c45ff5687",
   "metadata": {},
   "source": [
    "Get shortest length and coeffient"
   ]
  },
  {
   "cell_type": "code",
   "execution_count": 5,
   "id": "54bc124b-a935-48db-bb83-53d8466da1d0",
   "metadata": {},
   "outputs": [
    {
     "name": "stdout",
     "output_type": "stream",
     "text": [
      "8\n",
      "[[1, 1, 1, 0, 0, 0, 1, 0, 1], [0, 1, 1, 1, 0, 0, 1, 0, 1]]\n"
     ]
    }
   ],
   "source": [
    "shortest_length = items_lay[1][0][-1]\n",
    "print(shortest_length)\n",
    "\n",
    "coeffs = [lis[:-1] for lis in items_lay[1]]\n",
    "print(coeffs)"
   ]
  },
  {
   "cell_type": "code",
   "execution_count": 6,
   "id": "25ede402-c5c2-49af-8c81-c7542ceb79dd",
   "metadata": {},
   "outputs": [
    {
     "name": "stdout",
     "output_type": "stream",
     "text": [
      "[[1 1 1 1 0 1]\n",
      " [1 1 1 0 1 1]]\n"
     ]
    }
   ],
   "source": [
    "def PhiMatrix(coeffs,points,matrixes):\n",
    "    rs_matrix = []\n",
    "    for coeff in coeffs:\n",
    "        matrix_i = np.array([[0]*len(points),[0]*len(points)])\n",
    "        for matrix, co in zip(matrixes,coeff):\n",
    "            matrix_i += matrix*co\n",
    "        rs_matrix.append(matrix_i)\n",
    "    return rs_matrix\n",
    "\n",
    "rs_matrix = PhiMatrix(coeffs,points,matrixes)\n",
    "print(rs_matrix[0])\n",
    "        "
   ]
  },
  {
   "cell_type": "markdown",
   "id": "ab95a735-0892-4c96-8abb-35906fa68e47",
   "metadata": {},
   "source": [
    "We see, to remove noise results we need to establish following condition:\n",
    "$$m+d-c=1$$\n",
    "\n",
    "With:\n",
    "- $m$ is number of enclosed plane\n",
    "    + $m=\\sum {{a_i}.{b_{_i}}}$\n",
    "        - $a_i$ and $b_i$ are coefficients that have a prefix and suffix of are the same character. Ex: BA and CB\n",
    "- $d$ is number of point\n",
    "- $c$ is number of edge"
   ]
  },
  {
   "cell_type": "code",
   "execution_count": 7,
   "id": "ac4bb4a4-4ba7-4193-9825-ae73aa4fb3c0",
   "metadata": {},
   "outputs": [],
   "source": [
    "def ChangeVec(took_vectors,start_char,path):\n",
    "    for vector in took_vectors:\n",
    "        if vector[0] == start_char:\n",
    "            path += vector[-1]\n",
    "            took_vectors.remove(vector)\n",
    "    # print(path)\n",
    "    # print(took_vectors)\n",
    "    return path, took_vectors\n",
    "\n",
    "def FindPath(coe, ma):\n",
    "\n",
    "    took_vectors = [list_vec[i] for i in range(len(list_vec)) if coe[i] == 1]\n",
    "    # print(took_vectors)\n",
    "\n",
    "    start_index = list(ma[0]).index(0)\n",
    "    start_char = points[start_index]\n",
    "    # print(start_char)\n",
    "\n",
    "    end_index = list(ma[1]).index(0)\n",
    "    end_char = points[end_index]\n",
    "    # print(end_char)\n",
    "\n",
    "    path = start_char\n",
    "    path, took_vectors = ChangeVec(took_vectors,start_char,path)\n",
    "    # print(path)\n",
    "    # print(took_vectors)\n",
    "\n",
    "    while path[-1] != end_char:\n",
    "        path, took_vectors = ChangeVec(took_vectors,path[-1],path)\n",
    "    # print(path)\n",
    "    return path\n",
    "\n",
    "\n",
    "def ColectPath(coeffs,rs_matrix,points):\n",
    "    final_paths =  []\n",
    "    lene = len(points)\n",
    "    for coe, ma in zip(coeffs,rs_matrix):\n",
    "        path = FindPath(coe, ma)\n",
    "        if len(path) == lene:\n",
    "            final_paths.append(path)\n",
    "    return final_paths\n"
   ]
  },
  {
   "cell_type": "code",
   "execution_count": 8,
   "id": "65a99688-95d1-471f-92af-f06a901ff964",
   "metadata": {},
   "outputs": [
    {
     "name": "stdout",
     "output_type": "stream",
     "text": [
      "['ACBDEF']\n"
     ]
    }
   ],
   "source": [
    "path = ColectPath(coeffs,rs_matrix,points)\n",
    "print(path)"
   ]
  }
 ],
 "metadata": {
  "kernelspec": {
   "display_name": "Python 3 (ipykernel)",
   "language": "python",
   "name": "python3"
  },
  "language_info": {
   "codemirror_mode": {
    "name": "ipython",
    "version": 3
   },
   "file_extension": ".py",
   "mimetype": "text/x-python",
   "name": "python",
   "nbconvert_exporter": "python",
   "pygments_lexer": "ipython3",
   "version": "3.9.7"
  }
 },
 "nbformat": 4,
 "nbformat_minor": 5
}
